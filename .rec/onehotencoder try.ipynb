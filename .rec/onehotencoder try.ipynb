{
 "cells": [
  {
   "cell_type": "code",
   "execution_count": 6,
   "id": "1942bea4-db2f-4976-966f-91406bc110bc",
   "metadata": {},
   "outputs": [
    {
     "name": "stdout",
     "output_type": "stream",
     "text": [
      "   Fruit_Apple  Fruit_Banana  Fruit_Orange\n",
      "0          1.0           0.0           0.0\n",
      "1          0.0           1.0           0.0\n",
      "2          0.0           0.0           1.0\n",
      "3          0.0           1.0           0.0\n",
      "4          1.0           0.0           0.0\n",
      "5          0.0           0.0           1.0\n"
     ]
    }
   ],
   "source": [
    "import pandas as pd\n",
    "from sklearn.preprocessing import OneHotEncoder\n",
    "\n",
    "# Sample data with a categorical column\n",
    "data = {\n",
    "    'Fruit': ['Apple', 'Banana', 'Orange', 'Banana', 'Apple', 'Orange']\n",
    "}\n",
    "\n",
    "# Create a DataFrame from the data\n",
    "df = pd.DataFrame(data)\n",
    "\n",
    "# Initialize the OneHotEncoder\n",
    "encoder = OneHotEncoder()\n",
    "\n",
    "# Fit and transform the data using the OneHotEncoder\n",
    "one_hot_encoded = encoder.fit_transform(df[['Fruit']])\n",
    "\n",
    "# The result of fit_transform is a sparse matrix, so let's convert it to a DataFrame\n",
    "# and provide column names for better understanding\n",
    "columns = encoder.get_feature_names_out(['Fruit'])\n",
    "one_hot_encoded_df = pd.DataFrame(one_hot_encoded.toarray(), columns=columns)\n",
    "\n",
    "# Display the one-hot encoded DataFrame\n",
    "print(one_hot_encoded_df)\n"
   ]
  },
  {
   "cell_type": "code",
   "execution_count": 8,
   "id": "6f75511c-7589-4f1c-a83e-4c872d03e4cd",
   "metadata": {},
   "outputs": [
    {
     "data": {
      "text/plain": [
       "array(['Fruit_Apple', 'Fruit_Banana', 'Fruit_Orange'], dtype=object)"
      ]
     },
     "execution_count": 8,
     "metadata": {},
     "output_type": "execute_result"
    }
   ],
   "source": [
    "columns"
   ]
  },
  {
   "cell_type": "code",
   "execution_count": null,
   "id": "335f16bc-ffc8-471a-8fbe-490e24b1fda3",
   "metadata": {},
   "outputs": [],
   "source": [
    "import pandas as pd\n",
    "from sklearn.datasets import load_iris\n",
    "from sklearn.model_selection import train_test_split\n",
    "from sklearn.preprocessing import OneHotEncoder\n",
    "from sklearn.ensemble import RandomForestClassifier\n",
    "from sklearn.metrics import accuracy_score\n",
    "\n",
    "# Load the Iris dataset\n",
    "iris = load_iris()\n",
    "X = iris.data\n",
    "y = iris.target\n",
    "\n",
    "# Convert the target labels to a 2D array (required by OneHotEncoder)\n",
    "y = y.reshape(-1, 1)\n",
    "\n",
    "# Initialize the OneHotEncoder\n",
    "encoder = OneHotEncoder()\n",
    "\n",
    "# Fit and transform the target labels using the OneHotEncoder\n",
    "y_one_hot = encoder.fit_transform(y).toarray()\n",
    "\n",
    "# Split the data into training and testing sets\n",
    "X_train, X_test, y_train, y_test = train_test_split(X, y_one_hot, test_size=0.2, random_state=42)\n",
    "\n",
    "# Initialize the Random Forest Classifier\n",
    "clf = RandomForestClassifier(random_state=42)\n",
    "\n",
    "# Train the classifier on the training data\n",
    "clf.fit(X_train, y_train)\n",
    "\n",
    "# Predict the target labels on the test data\n",
    "y_pred = clf.predict(X_test)\n",
    "\n",
    "# Convert the one-hot encoded predictions back to the original labels\n",
    "y_pred_labels = encoder.inverse_transform(y_pred)\n",
    "\n",
    "# Calculate the accuracy of the model\n",
    "accuracy = accuracy_score(y_test, y_pred_labels)\n",
    "print(\"Accuracy:\", accuracy)\n"
   ]
  },
  {
   "cell_type": "code",
   "execution_count": null,
   "id": "cfc767e7-0312-4b0a-939f-57909fbcba3b",
   "metadata": {},
   "outputs": [],
   "source": [
    "import pandas as pd\n",
    "from sklearn.datasets import load_iris\n",
    "from sklearn.model_selection import train_test_split\n",
    "from sklearn.preprocessing import OneHotEncoder\n",
    "from sklearn.ensemble import RandomForestClassifier\n",
    "from sklearn.metrics import accuracy_score\n",
    "\n",
    "# Load the Iris dataset\n",
    "iris = load_iris()\n",
    "X = iris.data\n",
    "y = iris.target\n",
    "\n",
    "# Convert the target labels to a 2D array (required by OneHotEncoder)\n",
    "y = y.reshape(-1, 1)\n",
    "\n",
    "# Initialize the OneHotEncoder\n",
    "encoder = OneHotEncoder()\n",
    "\n",
    "# Fit and transform the target labels using the OneHotEncoder\n",
    "y_one_hot = encoder.fit_transform(y).toarray()\n",
    "\n",
    "# Split the data into training and testing sets\n",
    "X_train, X_test, y_train, y_test = train_test_split(X, y_one_hot, test_size=0.2, random_state=42)\n",
    "\n",
    "# Initialize the Random Forest Classifier\n",
    "clf = RandomForestClassifier(random_state=42)\n",
    "\n",
    "# Train the classifier on the training data\n",
    "clf.fit(X_train, y_train)\n",
    "\n",
    "# Predict the target labels on the test data\n",
    "y_pred = clf.predict(X_test)\n",
    "\n",
    "# Convert the one-hot encoded predictions back to the original labels\n",
    "y_pred_labels = encoder.inverse_transform(y_pred)\n",
    "y_test_labels = encoder.inverse_transform(y_test)\n",
    "\n",
    "# Calculate the accuracy of the model (after converting y_pred_labels to one-hot encoded format)\n",
    "accuracy = accuracy_score(y_test_labels, y_pred_labels)\n",
    "print(\"Accuracy:\", accuracy)"
   ]
  },
  {
   "cell_type": "code",
   "execution_count": 27,
   "id": "090bd1ad-960d-46e5-9f21-62e033197f06",
   "metadata": {},
   "outputs": [
    {
     "data": {
      "text/plain": [
       "(150, 3)"
      ]
     },
     "execution_count": 27,
     "metadata": {},
     "output_type": "execute_result"
    }
   ],
   "source": [
    "y_one_hot.shape"
   ]
  },
  {
   "cell_type": "code",
   "execution_count": 42,
   "id": "d6ed8a7f-de2e-4f15-a288-2373f9b39402",
   "metadata": {},
   "outputs": [
    {
     "name": "stdout",
     "output_type": "stream",
     "text": [
      "Accuracy: 1.0\n"
     ]
    }
   ],
   "source": [
    "import pandas as pd\n",
    "from sklearn.datasets import load_iris\n",
    "from sklearn.model_selection import train_test_split\n",
    "from sklearn.compose import ColumnTransformer\n",
    "from sklearn.preprocessing import OneHotEncoder\n",
    "from sklearn.ensemble import RandomForestClassifier\n",
    "from sklearn.metrics import accuracy_score\n",
    "\n",
    "# Load the Iris dataset\n",
    "iris = load_iris()\n",
    "X = iris.data\n",
    "y = iris.target\n",
    "\n",
    "# Split the data into training and testing sets\n",
    "X_train, X_test, y_train, y_test = train_test_split(X, y, test_size=0.2, random_state=42)\n",
    "\n",
    "# Define the column transformer for one-hot encoding\n",
    "# Assuming you want to one-hot encode the 4th feature (index 3)\n",
    "# and leave the other features as they are (passthrough)\n",
    "column_transformer = ColumnTransformer(\n",
    "    transformers=[('encoder', OneHotEncoder(), [3])],\n",
    "    remainder='passthrough'\n",
    ")\n",
    "\n",
    "# Fit and transform the feature data using the column transformer only on the training set\n",
    "X_train_encoded = column_transformer.fit_transform(X_train)\n",
    "\n",
    "# Transform the feature data on the test set (without fitting again)\n",
    "X_test_encoded = column_transformer.transform(X_test)\n",
    "\n",
    "# Initialize the Random Forest Classifier\n",
    "clf = RandomForestClassifier(random_state=42)\n",
    "\n",
    "# Train the classifier on the one-hot encoded training data\n",
    "clf.fit(X_train_encoded, y_train)\n",
    "\n",
    "# Predict the target labels on the one-hot encoded test data\n",
    "y_pred = clf.predict(X_test_encoded)\n",
    "\n",
    "# Calculate the accuracy of the model\n",
    "accuracy = accuracy_score(y_test, y_pred)\n",
    "print(\"Accuracy:\", accuracy)\n"
   ]
  },
  {
   "cell_type": "code",
   "execution_count": 41,
   "id": "56ba95a9-65bb-444f-90f9-91e1b7475536",
   "metadata": {},
   "outputs": [
    {
     "data": {
      "text/plain": [
       "(120, 25)"
      ]
     },
     "execution_count": 41,
     "metadata": {},
     "output_type": "execute_result"
    }
   ],
   "source": [
    "X_train_encoded.shape"
   ]
  },
  {
   "cell_type": "code",
   "execution_count": null,
   "id": "e11ec327-ea02-4594-9e0a-340a2e4b0ffd",
   "metadata": {},
   "outputs": [],
   "source": []
  }
 ],
 "metadata": {
  "kernelspec": {
   "display_name": "Python 3 (ipykernel)",
   "language": "python",
   "name": "python3"
  },
  "language_info": {
   "codemirror_mode": {
    "name": "ipython",
    "version": 3
   },
   "file_extension": ".py",
   "mimetype": "text/x-python",
   "name": "python",
   "nbconvert_exporter": "python",
   "pygments_lexer": "ipython3",
   "version": "3.11.4"
  }
 },
 "nbformat": 4,
 "nbformat_minor": 5
}
