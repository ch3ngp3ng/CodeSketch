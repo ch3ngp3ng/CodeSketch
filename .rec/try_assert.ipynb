{
 "cells": [
  {
   "cell_type": "code",
   "execution_count": 11,
   "id": "1bd1b17e-20d8-485f-8859-de09d64bffcd",
   "metadata": {},
   "outputs": [
    {
     "name": "stdout",
     "output_type": "stream",
     "text": [
      "AssertionError occurred: Division by zero is not allowed!\n"
     ]
    }
   ],
   "source": [
    "def divide(a, b):\n",
    "    assert b != 0 & a == 10   , \"Division by zero is not allowed!\"\n",
    "    return a / b\n",
    "\n",
    "try:\n",
    "    result = divide(10, 2)\n",
    "    print(\"Result:\", result)\n",
    "    \n",
    "    result = divide(10, 0)  # This will raise an AssertionError\n",
    "    print(\"Result:\", result)\n",
    "\n",
    "except AssertionError as e:\n",
    "    print(\"AssertionError occurred:\", e)\n"
   ]
  },
  {
   "cell_type": "code",
   "execution_count": null,
   "id": "6775fc94-9c61-4ff8-a84b-ef001f3a9242",
   "metadata": {},
   "outputs": [],
   "source": []
  }
 ],
 "metadata": {
  "kernelspec": {
   "display_name": "Python 3 (ipykernel)",
   "language": "python",
   "name": "python3"
  },
  "language_info": {
   "codemirror_mode": {
    "name": "ipython",
    "version": 3
   },
   "file_extension": ".py",
   "mimetype": "text/x-python",
   "name": "python",
   "nbconvert_exporter": "python",
   "pygments_lexer": "ipython3",
   "version": "3.11.4"
  }
 },
 "nbformat": 4,
 "nbformat_minor": 5
}
